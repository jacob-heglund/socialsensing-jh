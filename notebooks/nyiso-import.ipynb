{
 "cells": [
  {
   "cell_type": "markdown",
   "metadata": {},
   "source": [
    "# Notebook for Importing NYISO Powergrid Data."
   ]
  },
  {
   "cell_type": "code",
   "execution_count": 1,
   "metadata": {},
   "outputs": [
    {
     "name": "stdout",
     "output_type": "stream",
     "text": [
      "/home/aryaman/PycharmProjects/socialsensing/notebooks\n"
     ]
    }
   ],
   "source": [
    "%matplotlib inline\n",
    "import sys\n",
    "import os\n",
    "sys.path.append(os.path.abspath('../'))\n",
    "\n",
    "import matplotlib\n",
    "import matplotlib.pyplot as plt\n",
    "import numpy as np\n",
    "import pandas as pd\n",
    "import seaborn as sns\n",
    "sns.set()\n",
    "from twitterinfrastructure.tools import connect_db, output, query \n",
    "\n",
    "import twitterinfrastructure.nyiso as ny\n",
    "import importlib\n",
    "importlib.reload(ny)\n",
    "\n",
    "#os.chdir('../')\n",
    "print(os.getcwd())\n",
    "\n",
    "matplotlib.rc('text', usetex=True)\n",
    "matplotlib.rc('font', **{'family': \"serif\"})\n",
    "params = {'text.latex.preamble': [r'\\usepackage{siunitx}', \n",
    "                                  r'\\usepackage{amsmath}']}\n",
    "plt.rcParams.update(params)\n",
    "sns.set_context('paper')\n",
    "sns.set_style('darkgrid')"
   ]
  },
  {
   "cell_type": "markdown",
   "metadata": {},
   "source": [
    "## Import 2012 real-time integrated actual load data into database."
   ]
  },
  {
   "cell_type": "code",
   "execution_count": 3,
   "metadata": {
    "collapsed": true
   },
   "outputs": [
    {
     "ename": "FileNotFoundError",
     "evalue": "[Errno 2] No such file or directory: 'data/raw/nyiso/palIntegrated-2012/'",
     "output_type": "error",
     "traceback": [
      "\u001b[0;31m---------------------------------------------------------------------------\u001b[0m",
      "\u001b[0;31mFileNotFoundError\u001b[0m                         Traceback (most recent call last)",
      "\u001b[0;32m<ipython-input-3-a4e02fef29c0>\u001b[0m in \u001b[0;36m<module>\u001b[0;34m\u001b[0m\n\u001b[1;32m      8\u001b[0m import_num = ny.import_load(dl_dir, db_path, to_zoneid=to_zoneid, \n\u001b[1;32m      9\u001b[0m                             \u001b[0mzones_path\u001b[0m\u001b[0;34m=\u001b[0m\u001b[0mzones_path\u001b[0m\u001b[0;34m,\u001b[0m \u001b[0moverwrite\u001b[0m\u001b[0;34m=\u001b[0m\u001b[0;32mTrue\u001b[0m\u001b[0;34m,\u001b[0m\u001b[0;34m\u001b[0m\u001b[0;34m\u001b[0m\u001b[0m\n\u001b[0;32m---> 10\u001b[0;31m                             verbose=1)\n\u001b[0m",
      "\u001b[0;32m~/PycharmProjects/socialsensing/twitterinfrastructure/nyiso.py\u001b[0m in \u001b[0;36mimport_load\u001b[0;34m(dl_dir, db_path, to_zoneid, zones_path, overwrite, verbose)\u001b[0m\n\u001b[1;32m    641\u001b[0m     \u001b[0;31m# get files\u001b[0m\u001b[0;34m\u001b[0m\u001b[0;34m\u001b[0m\u001b[0;34m\u001b[0m\u001b[0m\n\u001b[1;32m    642\u001b[0m     \u001b[0mpattern\u001b[0m \u001b[0;34m=\u001b[0m \u001b[0mre\u001b[0m\u001b[0;34m.\u001b[0m\u001b[0mcompile\u001b[0m\u001b[0;34m(\u001b[0m\u001b[0;34m'\\d{8}palIntegrated_csv.zip'\u001b[0m\u001b[0;34m)\u001b[0m\u001b[0;34m\u001b[0m\u001b[0;34m\u001b[0m\u001b[0m\n\u001b[0;32m--> 643\u001b[0;31m     \u001b[0mfiles\u001b[0m \u001b[0;34m=\u001b[0m \u001b[0mget_regex_files\u001b[0m\u001b[0;34m(\u001b[0m\u001b[0mdl_dir\u001b[0m\u001b[0;34m,\u001b[0m \u001b[0mpattern\u001b[0m\u001b[0;34m=\u001b[0m\u001b[0mpattern\u001b[0m\u001b[0;34m,\u001b[0m \u001b[0mverbose\u001b[0m\u001b[0;34m=\u001b[0m\u001b[0mverbose\u001b[0m\u001b[0;34m)\u001b[0m\u001b[0;34m\u001b[0m\u001b[0;34m\u001b[0m\u001b[0m\n\u001b[0m\u001b[1;32m    644\u001b[0m \u001b[0;34m\u001b[0m\u001b[0m\n\u001b[1;32m    645\u001b[0m     \u001b[0;31m# create load table (if needed)\u001b[0m\u001b[0;34m\u001b[0m\u001b[0;34m\u001b[0m\u001b[0;34m\u001b[0m\u001b[0m\n",
      "\u001b[0;32m~/PycharmProjects/socialsensing/twitterinfrastructure/tools.py\u001b[0m in \u001b[0;36mget_regex_files\u001b[0;34m(files_dir, pattern, verbose)\u001b[0m\n\u001b[1;32m    329\u001b[0m     \"\"\"\n\u001b[1;32m    330\u001b[0m \u001b[0;34m\u001b[0m\u001b[0m\n\u001b[0;32m--> 331\u001b[0;31m     \u001b[0mfiles\u001b[0m \u001b[0;34m=\u001b[0m \u001b[0;34m[\u001b[0m\u001b[0mf\u001b[0m \u001b[0;32mfor\u001b[0m \u001b[0mf\u001b[0m \u001b[0;32min\u001b[0m \u001b[0mos\u001b[0m\u001b[0;34m.\u001b[0m\u001b[0mlistdir\u001b[0m\u001b[0;34m(\u001b[0m\u001b[0mfiles_dir\u001b[0m\u001b[0;34m)\u001b[0m \u001b[0;32mif\u001b[0m \u001b[0mpattern\u001b[0m\u001b[0;34m.\u001b[0m\u001b[0mmatch\u001b[0m\u001b[0;34m(\u001b[0m\u001b[0mf\u001b[0m\u001b[0;34m)\u001b[0m\u001b[0;34m]\u001b[0m\u001b[0;34m\u001b[0m\u001b[0;34m\u001b[0m\u001b[0m\n\u001b[0m\u001b[1;32m    332\u001b[0m     \u001b[0mfiles\u001b[0m\u001b[0;34m.\u001b[0m\u001b[0msort\u001b[0m\u001b[0;34m(\u001b[0m\u001b[0;34m)\u001b[0m\u001b[0;34m\u001b[0m\u001b[0;34m\u001b[0m\u001b[0m\n\u001b[1;32m    333\u001b[0m \u001b[0;34m\u001b[0m\u001b[0m\n",
      "\u001b[0;31mFileNotFoundError\u001b[0m: [Errno 2] No such file or directory: 'data/raw/nyiso/palIntegrated-2012/'"
     ]
    }
   ],
   "source": [
    "# import data\n",
    "# takes ~10 seconds\n",
    "dl_dir = 'data/raw/nyiso/palIntegrated-2012/'\n",
    "db_path = 'data/processed/nyiso-2012.db'\n",
    "to_zoneid = True\n",
    "zones_path = 'data/raw/nyiso/nyiso-zones.csv'\n",
    "\n",
    "import_num = ny.import_load(dl_dir, db_path, to_zoneid=to_zoneid, \n",
    "                            zones_path=zones_path, overwrite=True, \n",
    "                            verbose=1)"
   ]
  },
  {
   "cell_type": "markdown",
   "metadata": {},
   "source": [
    "## Import 2012 load forecast data into database."
   ]
  },
  {
   "cell_type": "code",
   "execution_count": 4,
   "metadata": {
    "collapsed": true
   },
   "outputs": [
    {
     "name": "stdout",
     "output_type": "stream",
     "text": [
      "2018-07-24 19:56:20 : 12 matching files in \"data/raw/nyiso/isolf-2012/\".\n",
      "\n",
      "2018-07-24 19:56:20 : Dropped load_forecast table (if exists).\n",
      "\n",
      "2018-07-24 19:56:20 : Created new (if not exists) load_forecast table.\n",
      "\n",
      "2018-07-24 19:56:20 : Started importing \"20120101isolf_csv.zip\".\n",
      "\n",
      "2018-07-24 19:58:18 : Finished importing \"20120101isolf_csv.zip\".\n",
      "\n",
      "2018-07-24 19:58:18 : Started importing \"20120201isolf_csv.zip\".\n",
      "\n",
      "2018-07-24 20:00:09 : Finished importing \"20120201isolf_csv.zip\".\n",
      "\n",
      "2018-07-24 20:00:09 : Started importing \"20120301isolf_csv.zip\".\n",
      "\n",
      "2018-07-24 20:02:04 : Finished importing \"20120301isolf_csv.zip\".\n",
      "\n",
      "2018-07-24 20:02:04 : Started importing \"20120401isolf_csv.zip\".\n",
      "\n",
      "2018-07-24 20:04:07 : Finished importing \"20120401isolf_csv.zip\".\n",
      "\n",
      "2018-07-24 20:04:07 : Started importing \"20120501isolf_csv.zip\".\n",
      "\n",
      "2018-07-24 20:06:18 : Finished importing \"20120501isolf_csv.zip\".\n",
      "\n",
      "2018-07-24 20:06:18 : Started importing \"20120601isolf_csv.zip\".\n",
      "\n",
      "2018-07-24 20:08:21 : Finished importing \"20120601isolf_csv.zip\".\n",
      "\n",
      "2018-07-24 20:08:21 : Started importing \"20120701isolf_csv.zip\".\n",
      "\n",
      "2018-07-24 20:10:33 : Finished importing \"20120701isolf_csv.zip\".\n",
      "\n",
      "2018-07-24 20:10:33 : Started importing \"20120801isolf_csv.zip\".\n",
      "\n",
      "2018-07-24 20:12:48 : Finished importing \"20120801isolf_csv.zip\".\n",
      "\n",
      "2018-07-24 20:12:48 : Started importing \"20120901isolf_csv.zip\".\n",
      "\n",
      "2018-07-24 20:14:57 : Finished importing \"20120901isolf_csv.zip\".\n",
      "\n",
      "2018-07-24 20:14:57 : Started importing \"20121001isolf_csv.zip\".\n",
      "\n",
      "2018-07-24 20:17:04 : Finished importing \"20121001isolf_csv.zip\".\n",
      "\n",
      "2018-07-24 20:17:04 : Started importing \"20121101isolf_csv.zip\".\n",
      "\n",
      "2018-07-24 20:19:12 : Finished importing \"20121101isolf_csv.zip\".\n",
      "\n",
      "2018-07-24 20:19:12 : Started importing \"20121201isolf_csv.zip\".\n",
      "\n",
      "2018-07-24 20:21:22 : Finished importing \"20121201isolf_csv.zip\".\n",
      "\n",
      "2018-07-24 20:21:22 : Finished importing 366 files from \"data/raw/nyiso/isolf-2012/\".\n",
      "\n"
     ]
    }
   ],
   "source": [
    "# import data\n",
    "# takes ~25 minutes\n",
    "dl_dir = 'data/raw/nyiso/isolf-2012/'\n",
    "db_path = 'data/processed/nyiso-2012.db'\n",
    "zones_path = 'data/raw/nyiso/nyiso-zones.csv'\n",
    "\n",
    "import_num = ny.import_load_forecast(dl_dir, db_path,\n",
    "                                     zones_path=zones_path, overwrite=True,\n",
    "                                     verbose=1)\n",
    "\n",
    "# # test output\n",
    "# db_path = 'data/processed/nyiso-2012.db'\n",
    "# sql = 'SELECT * FROM load_forecast;'\n",
    "# df = query(db_path=db_path, sql=sql, parse_dates=False, verbose=2)\n",
    "# df.to_csv('test.csv')"
   ]
  },
  {
   "cell_type": "markdown",
   "metadata": {},
   "source": [
    "## Create forecast error table in database."
   ]
  },
  {
   "cell_type": "code",
   "execution_count": 32,
   "metadata": {
    "collapsed": true
   },
   "outputs": [
    {
     "name": "stdout",
     "output_type": "stream",
     "text": [
      "2018-07-24 20:48:12 : Started creating or updating forecast_error table.\n",
      "\n",
      "2018-07-24 20:48:13 : Dropped forecast_error table (if exists).\n",
      "\n",
      "2018-07-24 20:48:13 : Created new (if not exists) forecast_error table.\n",
      "\n",
      "2018-07-24 20:48:14 : Wrote dataframe to new (if not exists) or existing forecast_error table.\n",
      "\n",
      "2018-07-24 20:48:14 : Finished creating or updating forecast_error table. Dataframe shape is (96624, 8).\n",
      "\n"
     ]
    }
   ],
   "source": [
    "# create table\n",
    "# takes ~1 second\n",
    "db_path = 'data/processed/nyiso-2012.db'\n",
    "load_table = 'load'\n",
    "forecast_table = 'load_forecast'\n",
    "df = ny.create_forecast_err(db_path, load_table=load_table, \n",
    "                            forecast_table=forecast_table, \n",
    "                            overwrite=True, verbose=1)\n",
    "\n",
    "# # test output\n",
    "# db_path = 'data/processed/nyiso-2012.db'\n",
    "# sql = 'SELECT * FROM forecast_error;'\n",
    "# df = query(db_path=db_path, sql=sql, parse_dates=False, verbose=2)\n",
    "# df.to_csv('test.csv')"
   ]
  },
  {
   "cell_type": "markdown",
   "metadata": {},
   "source": [
    "## Create summary tables."
   ]
  },
  {
   "cell_type": "code",
   "execution_count": 6,
   "metadata": {
    "collapsed": true
   },
   "outputs": [
    {
     "name": "stdout",
     "output_type": "stream",
     "text": [
      "2018-07-24 10:00:01 : Started creating or updating expected_load_sandy table.\n",
      "\n",
      "2018-07-24 10:00:07 : Dropped expected_load_sandy table (if exists).\n",
      "\n",
      "2018-07-24 10:00:07 : Created new (if not exists) expected_load_sandy table.\n",
      "\n",
      "2018-07-24 10:00:07 : Wrote dataframe to new (if not exists) or existing expected_load_sandy table.\n",
      "\n",
      "2018-07-24 10:00:07 : Finished creating or updating expected_load_sandy table. Dataframe shape is (1848, 6).\n",
      "\n",
      "2018-07-24 10:00:07 : Started creating or updating standard_load_sandy table.\n",
      "\n",
      "2018-07-24 10:00:07 : Dropped standard_load_sandy table (if exists).\n",
      "\n",
      "2018-07-24 10:00:07 : Created new (if not exists) standard_load_sandy table.\n",
      "\n",
      "2018-07-24 10:00:07 : Wrote dataframe to new (if not exists) or existing standard_load_sandy table.\n",
      "\n",
      "2018-07-24 10:00:07 : Finished creating or updating standard_load_sandy table. Dataframe shape is (3168, 1).\n",
      "\n"
     ]
    },
    {
     "name": "stderr",
     "output_type": "stream",
     "text": [
      "/Users/httran/Documents/projects/twitterinfrastructure/twitterinfrastructure/nyiso.py:420: SettingWithCopyWarning: \n",
      "A value is trying to be set on a copy of a slice from a DataFrame.\n",
      "Try using .loc[row_indexer,col_indexer] = value instead\n",
      "\n",
      "See the caveats in the documentation: http://pandas.pydata.org/pandas-docs/stable/indexing.html#indexing-view-versus-copy\n",
      "  / df['var_integrated_load']\n"
     ]
    }
   ],
   "source": [
    "# create expected_load and standard_load tables\n",
    "# takes ~7 seconds\n",
    "db_path = 'data/processed/nyiso-2012.db'\n",
    "summary_table = 'load'\n",
    "expected_table = 'expected_load_sandy'\n",
    "zones_path = 'data/raw/nyiso/nyiso-zones.csv'\n",
    "start_ref = pd.Timestamp('2012-01-01 00:00:00', tz='America/New_York')\n",
    "end_ref = pd.Timestamp('2012-12-31 23:59:59', tz='America/New_York')\n",
    "datetimeUTC_range_ref = (start_ref.tz_convert(tz='UTC').tz_localize(None), \n",
    "                         end_ref.tz_convert(tz='UTC').tz_localize(None))\n",
    "start = pd.Timestamp('2012-10-22 00:00:00', tz='America/New_York')\n",
    "end = pd.Timestamp('2012-11-02 23:59:59', tz='America/New_York')\n",
    "datetimeUTC_range = (start.tz_convert(tz='UTC').tz_localize(None),\n",
    "                     end.tz_convert(tz='UTC').tz_localize(None))\n",
    "import_num = ny.create_expected_load(db_path, summary_table, zones_path,\n",
    "                                     datetimeUTC_range_ref, \n",
    "                                     datetimeUTC_range_excl=datetimeUTC_range,\n",
    "                                     title='sandy', overwrite=True, verbose=1)\n",
    "df_std = ny.create_standard_load(db_path, summary_table, expected_table,\n",
    "                                 datetimeUTC_range, min_num_rows=5, \n",
    "                                 title='sandy', overwrite=True, verbose=1)"
   ]
  },
  {
   "cell_type": "markdown",
   "metadata": {},
   "source": [
    "## Exploratory data analysis for forecast error (grouped by hour and zone)."
   ]
  },
  {
   "cell_type": "code",
   "execution_count": 42,
   "metadata": {},
   "outputs": [
    {
     "data": {
      "image/png": "[encoded data removed]",
      "text/plain": [
       "<Figure size 432x288 with 1 Axes>"
      ]
     },
     "metadata": {},
     "output_type": "display_data"
    }
   ],
   "source": [
    "# forecast error for individual zones over all of 2012\n",
    "db_path = 'data/processed/nyiso-2012.db'\n",
    "\n",
    "# query reference data\n",
    "sql = \"\"\"\n",
    "    SELECT forecast_error_p0 AS err0, forecast_error_p1 AS err1,\n",
    "        forecast_error_p2 AS err2, forecast_error_p3 AS err3\n",
    "    FROM forecast_error\n",
    ";\"\"\"\n",
    "df = query(db_path, sql)\n",
    "df_plt = df.replace([np.inf, -np.inf], np.nan).dropna()\n",
    "df_plt['percent-err0'] = df_plt['err0'] * 100\n",
    "df_plt['percent-err1'] = df_plt['err1'] * 100\n",
    "df_plt['percent-err2'] = df_plt['err2'] * 100\n",
    "df_plt['logmod-percent-err0'] = np.sign(df_plt['percent-err0']) * \\\n",
    "                                np.log10(abs(df_plt['percent-err0']) + 1)\n",
    "\n",
    "# boxplot (raw)\n",
    "ploty = df_plt['percent-err0']\n",
    "fig, ax = plt.subplots(figsize=(6, 4), tight_layout=False)\n",
    "ax = sns.boxplot(ploty, data=df_plt, labels=['2012'], ax=ax, fliersize=3)\n",
    "ax.set_xlim(-50, 50)\n",
    "ax.set_xlabel(r'Relative Forecast Percent Error, $\\epsilon$', fontsize=16)\n",
    "ax.tick_params(axis='both', labelsize=14)\n",
    "\n",
    "# # histogram (log-mod)\n",
    "# ploty = df_plt['logmod-percent-err0']\n",
    "# fig, ax = plt.subplots(figsize=(6, 4), tight_layout=False)\n",
    "# ax = sns.distplot(ploty, ax=ax)\n",
    "\n",
    "# save\n",
    "plt.savefig('notebooks/images/nyiso-boxplot.png', dpi=150, \n",
    "            bbox_inches='tight')"
   ]
  },
  {
   "cell_type": "markdown",
   "metadata": {},
   "source": [
    "## Exploratory data analysis for load z-score (grouped by hour and zone)."
   ]
  },
  {
   "cell_type": "code",
   "execution_count": 7,
   "metadata": {},
   "outputs": [
    {
     "data": {
      "image/png": "[encoded data removed]",
      "text/plain": [
       "<Figure size 432x288 with 1 Axes>"
      ]
     },
     "metadata": {},
     "output_type": "display_data"
    }
   ],
   "source": [
    "# hourly expected loads\n",
    "# note that expected calculations do not account for seasonality\n",
    "\n",
    "# query expected data for zone 3\n",
    "sql = \"\"\"\n",
    "    SELECT dayofweek, hour, zone_id AS zone, mean_integrated_load AS load \n",
    "    FROM expected_load_sandy\n",
    "    WHERE zone = 3\n",
    ";\"\"\"\n",
    "df = query(db_path, sql)\n",
    "# add hours since sunday 00:00\n",
    "df['timedelta'] = df['hour'] + df['dayofweek'] * 24\n",
    "df = df.set_index(['timedelta', 'zone'])\n",
    "df = df[['load']]\n",
    "df = df.sort_index()\n",
    "df_plot1 = df\n",
    "\n",
    "# query expected data for zone 10\n",
    "sql = \"\"\"\n",
    "    SELECT dayofweek, hour, zone_id AS zone, mean_integrated_load AS load \n",
    "    FROM expected_load_sandy\n",
    "    WHERE zone = 10\n",
    ";\"\"\"\n",
    "df = query(db_path, sql)\n",
    "# add hours since monday 00:00\n",
    "df['timedelta'] = df['hour'] + df['dayofweek'] * 24\n",
    "df = df.set_index(['timedelta', 'zone'])\n",
    "df = df[['load']]\n",
    "df = df.sort_index()\n",
    "df_plot2 = df\n",
    "\n",
    "# figure\n",
    "fig, ax = plt.subplots(figsize=(6, 4), tight_layout=False)\n",
    "lines = []\n",
    "line = ax.plot(df_plot1.index.get_level_values('timedelta'), df_plot1['load'],\n",
    "               color='xkcd:black', linestyle='-')\n",
    "lines.append(line)\n",
    "line = ax.plot(df_plot2.index.get_level_values('timedelta'), df_plot2['load'],\n",
    "               color='xkcd:red', linestyle='--')\n",
    "lines.append(line)\n",
    "\n",
    "# axes\n",
    "fig.tight_layout()\n",
    "ax.tick_params(axis='both', colors='k', labelsize=14)\n",
    "# ax.set_xlabel('Time', color='k', size=16)\n",
    "ax.set_xticks(range(0, 168, 24))\n",
    "ax.set_xticklabels(['M', 'T', 'W', 'TH', 'F', 'Sat.', 'Sun.'])\n",
    "ax.set_ylabel('Load', color='k', size=16)\n",
    "leg = ax.legend(['Central', 'N.Y.C.'],\n",
    "                loc='best', fontsize=14,\n",
    "                frameon=True, fancybox=True, facecolor='xkcd:light grey')\n",
    "\n",
    "# save\n",
    "# plt.savefig('notebooks/images/expectedload-timeseries.png', dpi=150, \n",
    "#             bbox_inches='tight')"
   ]
  },
  {
   "cell_type": "code",
   "execution_count": 1,
   "metadata": {
    "collapsed": true
   },
   "outputs": [
    {
     "ename": "NameError",
     "evalue": "name 'query' is not defined",
     "output_type": "error",
     "traceback": [
      "\u001b[0;31m---------------------------------------------------------------------------\u001b[0m",
      "\u001b[0;31mNameError\u001b[0m                                 Traceback (most recent call last)",
      "\u001b[0;32m<ipython-input-1-4d557a057bad>\u001b[0m in \u001b[0;36m<module>\u001b[0;34m\u001b[0m\n\u001b[1;32m     26\u001b[0m             \u001b[0mstart_datetime_excl\u001b[0m\u001b[0;34m=\u001b[0m\u001b[0mdatetime_range_excl\u001b[0m\u001b[0;34m[\u001b[0m\u001b[0;36m0\u001b[0m\u001b[0;34m]\u001b[0m\u001b[0;34m,\u001b[0m\u001b[0;34m\u001b[0m\u001b[0;34m\u001b[0m\u001b[0m\n\u001b[1;32m     27\u001b[0m             end_datetime_excl=datetime_range_excl[1])\n\u001b[0;32m---> 28\u001b[0;31m \u001b[0mdf\u001b[0m \u001b[0;34m=\u001b[0m \u001b[0mquery\u001b[0m\u001b[0;34m(\u001b[0m\u001b[0mdb_path\u001b[0m\u001b[0;34m,\u001b[0m \u001b[0msql\u001b[0m\u001b[0;34m)\u001b[0m\u001b[0;34m\u001b[0m\u001b[0;34m\u001b[0m\u001b[0m\n\u001b[0m\u001b[1;32m     29\u001b[0m \u001b[0;34m\u001b[0m\u001b[0m\n\u001b[1;32m     30\u001b[0m \u001b[0;31m# add dayofweek (0 = Monday) and hour (0-23)\u001b[0m\u001b[0;34m\u001b[0m\u001b[0;34m\u001b[0m\u001b[0;34m\u001b[0m\u001b[0m\n",
      "\u001b[0;31mNameError\u001b[0m: name 'query' is not defined"
     ]
    }
   ],
   "source": [
    "# hourly loads for individual zones (excluding reference set from 10-22 to \n",
    "# 11-02)\n",
    "db_path = 'data/processed/nyiso-2012.db'\n",
    "datetime_range_ref = ('2012-01-01 05:00:00', '2013-01-01 04:59:59')\n",
    "# UTC (EST, 5 hour offset)\n",
    "datetime_range_excl = ('2012-10-22 04:00:00', '2012-11-03 03:59:59')\n",
    "# UTC (EDT, 4 hour offset)\n",
    "\n",
    "# tuple = (dayofweek, hour, zone)\n",
    "# dayofweek (0 = Monday)\n",
    "# hour (4 = 04:00, 14 = 14:00)\n",
    "# zone (10 = N.Y.C., 3 = Central)\n",
    "combos = [(6, 14, 10), (3, 14, 10), \n",
    "          (6, 14, 3), (3, 14, 3)]\n",
    "\n",
    "# query reference data\n",
    "sql = \"\"\"\n",
    "    SELECT datetimeUTC, zone_id AS zone, integrated_load AS load \n",
    "    FROM load\n",
    "    WHERE\n",
    "        (datetimeUTC BETWEEN \"{start_datetime}\" AND \"{end_datetime}\")\n",
    "        AND (datetimeUTC NOT BETWEEN \"{start_datetime_excl}\" AND\n",
    "            \"{end_datetime_excl}\")\n",
    ";\"\"\".format(start_datetime=datetime_range_ref[0],\n",
    "            end_datetime=datetime_range_ref[1],\n",
    "            start_datetime_excl=datetime_range_excl[0],\n",
    "            end_datetime_excl=datetime_range_excl[1])\n",
    "df = query(db_path, sql)\n",
    "\n",
    "# add dayofweek (0 = Monday) and hour (0-23)\n",
    "df['datetimeUTC'] = pd.to_datetime(df['datetimeUTC'])\n",
    "df['datetimeUTC'] = [datetime.tz_localize(tz='UTC') for datetime in\n",
    "                     df['datetimeUTC']]\n",
    "df['datetime'] = [datetime.tz_convert('America/New_York') for\n",
    "                  datetime in df['datetimeUTC']]\n",
    "df['dayofweek'] = df['datetime'].dt.dayofweek\n",
    "df['hour'] = df['datetime'].dt.hour\n",
    "\n",
    "# filter to desired dayofweek, hour, and zone combos\n",
    "df_plot = pd.DataFrame()\n",
    "for combo in combos:\n",
    "    df_plot = df_plot.append(df[(df['dayofweek'] == combo[0]) &\n",
    "                                (df['hour'] == combo[1]) &\n",
    "                                (df['zone'] == combo[2])])\n",
    "df_plot['timegroup'] = [str(day) + '-' + str(hour) for day, hour in \n",
    "                        zip(df_plot['dayofweek'].values, \n",
    "                            df_plot['hour'].values)]\n",
    "df_plot = df_plot[['zone', 'timegroup', 'load']]\n",
    "df_plot.head()\n",
    "\n",
    "# boxplot\n",
    "fig, ax = plt.subplots(figsize=(6, 4), tight_layout=False)\n",
    "ax = sns.boxplot(x='zone', y='load', hue='timegroup', data=df_plot,\n",
    "                 ax=ax)\n",
    "ax.set_xlabel('Zone', fontsize=16)\n",
    "ax.set_ylabel('Load', fontsize=16)\n",
    "ax.tick_params(axis='both', labelsize=14)\n",
    "labels = ['Sunday, 14:00', 'Thursday, 14:00']\n",
    "handles, old_labels = ax.get_legend_handles_labels()\n",
    "leg = ax.legend(handles=handles, labels=labels, loc='best', fontsize=12, \n",
    "                title=None, frameon=True, fancybox=True, \n",
    "                facecolor='xkcd:light grey')\n",
    "print('old labels: ' + str(old_labels))\n",
    "\n",
    "# # save\n",
    "# plt.savefig('notebooks/images/load-boxplot.png', dpi=150, \n",
    "#             bbox_inches='tight')"
   ]
  },
  {
   "cell_type": "code",
   "execution_count": 12,
   "metadata": {},
   "outputs": [
    {
     "name": "stdout",
     "output_type": "stream",
     "text": [
      "2018-07-24 10:55:33 : [min, max] zload datetime: [2012-10-22T04:00:00.000000000, 2012-11-03T03:00:00.000000000].\n",
      "\n",
      "2018-07-24 10:55:33 : [min, max] zload: [-0.144675562928967, 0.006065874268863802].\n",
      "\n"
     ]
    },
    {
     "data": {
      "text/plain": [
       "Text(0,0.5,'Count')"
      ]
     },
     "execution_count": 12,
     "metadata": {},
     "output_type": "execute_result"
    },
    {
     "data": {
      "image/png": "[encoded data removed]",
      "text/plain": [
       "<Figure size 432x288 with 1 Axes>"
      ]
     },
     "metadata": {},
     "output_type": "display_data"
    },
    {
     "data": {
      "image/png": "[encoded data removed]",
      "text/plain": [
       "<Figure size 432x288 with 1 Axes>"
      ]
     },
     "metadata": {},
     "output_type": "display_data"
    }
   ],
   "source": [
    "# hourly zone load zscores\n",
    "db_path = 'data/processed/nyiso-2012.db'\n",
    "sql = 'SELECT datetimeUTC, z_integrated_load AS zload FROM standard_load_sandy;'\n",
    "df_load = query(db_path, sql)\n",
    "df_load['datetimeUTC'] = pd.to_datetime(df_load['datetimeUTC'])\n",
    "df_load['datetimeUTC'] = [datetime.tz_localize(tz='UTC') for datetime in\n",
    "                          df_load['datetimeUTC']]\n",
    "df_load['datetime'] = [datetime.tz_convert('America/New_York') for\n",
    "                       datetime in df_load['datetimeUTC']]\n",
    "output('[min, max] zload datetime: [' +\n",
    "       str(np.nanmin(df_load['datetime'])) + ', ' +\n",
    "       str(np.nanmax(df_load['datetime'])) + '].')\n",
    "output('[min, max] zload: [' +\n",
    "       str(np.nanmin(df_load['zload'])) + ', ' +\n",
    "       str(np.nanmax(df_load['zload'])) + '].')\n",
    "\n",
    "ploty = df_load['zload']\n",
    "\n",
    "# dropoff ztrips boxplot\n",
    "fig, ax = plt.subplots(figsize=(6, 4), tight_layout=False)\n",
    "ax.boxplot(ploty, sym='', labels=['Oct. 28 - Nov. 2'])\n",
    "ax.set_ylabel(r'$z_d$', fontsize=16)\n",
    "ax.tick_params(axis='both', labelsize=16)\n",
    "\n",
    "# dropoff ztrips histogram\n",
    "fig, ax = plt.subplots(figsize=(6, 4), tight_layout=False)\n",
    "# ax.hist(ploty, density=True, facecolor='g', alpha=0.75)\n",
    "ax.hist(ploty, np.arange(-2, 5, 0.25), density=False, facecolor='g', alpha=0.75)\n",
    "ax.set_xlabel(r'$z_d$ (Oct. 28 - Nov. 2)', fontsize=16)\n",
    "ax.set_ylabel('Count', fontsize=16)"
   ]
  },
  {
   "cell_type": "code",
   "execution_count": null,
   "metadata": {},
   "outputs": [],
   "source": []
  }
 ],
 "metadata": {
  "kernelspec": {
   "display_name": "Python 3",
   "language": "python",
   "name": "python3"
  },
  "language_info": {
   "codemirror_mode": {
    "name": "ipython",
    "version": 3
   },
   "file_extension": ".py",
   "mimetype": "text/x-python",
   "name": "python",
   "nbconvert_exporter": "python",
   "pygments_lexer": "ipython3",
   "version": "3.7.2"
  },
  "toc": {
   "base_numbering": 1,
   "nav_menu": {},
   "number_sections": true,
   "sideBar": true,
   "skip_h1_title": false,
   "title_cell": "Table of Contents",
   "title_sidebar": "Contents",
   "toc_cell": false,
   "toc_position": {},
   "toc_section_display": true,
   "toc_window_display": false
  },
  "varInspector": {
   "cols": {
    "lenName": 16,
    "lenType": 16,
    "lenVar": 40
   },
   "kernels_config": {
    "python": {
     "delete_cmd_postfix": "",
     "delete_cmd_prefix": "del ",
     "library": "var_list.py",
     "varRefreshCmd": "print(var_dic_list())"
    },
    "r": {
     "delete_cmd_postfix": ") ",
     "delete_cmd_prefix": "rm(",
     "library": "var_list.r",
     "varRefreshCmd": "cat(var_dic_list()) "
    }
   },
   "types_to_exclude": [
    "module",
    "function",
    "builtin_function_or_method",
    "instance",
    "_Feature"
   ],
   "window_display": false
  }
 },
 "nbformat": 4,
 "nbformat_minor": 1
}
