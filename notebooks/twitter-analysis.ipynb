{
 "cells": [
  {
   "cell_type": "markdown",
   "metadata": {},
   "source": [
    "# Notebook for analyzing twitter data from hurricane sandy.\n",
    "\n",
    "The twitter dataset is from mdredze."
   ]
  },
  {
   "cell_type": "code",
   "execution_count": 1,
   "metadata": {
    "ExecuteTime": {
     "end_time": "2019-02-14T16:00:24.813753Z",
     "start_time": "2019-02-14T16:00:17.205967Z"
    }
   },
   "outputs": [
    {
     "name": "stdout",
     "output_type": "stream",
     "text": [
      "C:\\dev\\research\\socialsensing\\notebooks\n"
     ]
    }
   ],
   "source": [
    "%matplotlib inline\n",
    "import sys\n",
    "import os\n",
    "sys.path.append(os.path.abspath('../'))\n",
    "\n",
    "import datetime as dt\n",
    "import matplotlib.pyplot as plt\n",
    "import pandas as pd\n",
    "import seaborn as sns\n",
    "sns.set()\n",
    "\n",
    "import twitterinfrastructure.twitter_sandy as ts\n",
    "import importlib\n",
    "importlib.reload(ts)\n",
    "\n",
    "# os.chdir('../')\n",
    "print(os.getcwd())"
   ]
  },
  {
   "cell_type": "markdown",
   "metadata": {
    "heading_collapsed": true
   },
   "source": [
    "## Create NYC Sandy analysis collection.\n",
    "\n",
    "The analysis collection only includes tweets geolocated within the NYC taxi_zones shapefile and adds location_id, borogough_id, timestamp, and tokens fields."
   ]
  },
  {
   "cell_type": "code",
   "execution_count": 2,
   "metadata": {
    "hidden": true
   },
   "outputs": [
    {
     "name": "stdout",
     "output_type": "stream",
     "text": [
      "2018-07-23 11:51:43 : Started querying, processing, and inserting tweets from tweets into tweets_analysis collection in sandy database.\n",
      "\n",
      "2018-07-23 11:51:43 : Dropped tweets_analysis collection (if exists).\n",
      "\n",
      "2018-07-23 14:49:21 : Finished querying, processing, and inserting tweets from tweets into tweets_analysis collection in sandy database (635431 of 4745579 queried tweets inserted).\n",
      "\n"
     ]
    }
   ],
   "source": [
    "# creates collection of processed tweets within NYC taxi_zones shapefile\n",
    "# (635431 tweets out of 4799665, 649.7 MB total doc size)\n",
    "# takes ~3 hours\n",
    "collection = 'tweets_analysis'\n",
    "tweet_collection = 'tweets'\n",
    "nyisozones_collection = 'nyiso_zones'\n",
    "taxizones_collection = 'taxi_zones'\n",
    "fields = ['_id', 'coordinates', 'created_at', 'entities', 'text', \n",
    "          'id_str', 'place']\n",
    "db_name = 'sandy'\n",
    "db_instance = 'mongodb://localhost:27017/'\n",
    "\n",
    "import_num, tokens = ts.create_analysis(collection=collection, \n",
    "                                        tweet_collection=tweet_collection,\n",
    "                                        nyisozones_collection=nyisozones_collection,\n",
    "                                        taxizones_collection=taxizones_collection, \n",
    "                                        fields=fields, db_name=db_name, \n",
    "                                        db_instance=db_instance, \n",
    "                                        progressbar=False,\n",
    "                                        overwrite=True, verbose=1)"
   ]
  },
  {
   "cell_type": "markdown",
   "metadata": {
    "heading_collapsed": true
   },
   "source": [
    "## Create Sandy, traffic, metro, and power-related collections of tweets.\n",
    "\n",
    "Each collection only includes tweets related to that topic, based on keywords and hashtags."
   ]
  },
  {
   "cell_type": "code",
   "execution_count": 3,
   "metadata": {
    "collapsed": true,
    "hidden": true
   },
   "outputs": [
    {
     "name": "stdout",
     "output_type": "stream",
     "text": [
      "['hurrican', 'sandi', 'storm', 'cab', 'congest', 'nyctlc', 'taxi', 'traffic', 'yellow', 'blackout', 'electr', 'grid', 'light', 'nyiso', 'outag', 'power', 'servic', 'bu', 'metro', 'mta', 'mtasubway', 'nycmta', 'nycsubway', 'sub', 'subway', 'train']\n"
     ]
    }
   ],
   "source": [
    "# test tokens\n",
    "tweet_text = 'hurricane sandy storm cab congestion nyctlc taxi traffic yellow ' \\\n",
    "             'blackout electricity grid lights nyiso outage power service ' \\\n",
    "             'bus metro mta mtasubway nycmta nycsubway sub subway train'\n",
    "tokens = ts.tokenize_tweet(tweet_text)\n",
    "print(tokens)"
   ]
  },
  {
   "cell_type": "code",
   "execution_count": 4,
   "metadata": {
    "collapsed": true,
    "hidden": true
   },
   "outputs": [
    {
     "name": "stdout",
     "output_type": "stream",
     "text": [
      "2018-07-23 19:20:57 : Started querying and inserting token and/or hashtag-matched tweets from tweets_analysis into tweets_sandy collection in sandy database.\n",
      "\n",
      "2018-07-23 19:20:57 : Dropped tweets_sandy collection (if exists).\n",
      "\n",
      "2018-07-23 19:21:12 : Finished querying and inserting token and/or hashtag-matched tweets from tweets_analysis into tweets_sandy collection in sandy database. (30290 of 30290 queried tweets inserted).\n",
      "\n"
     ]
    }
   ],
   "source": [
    "# creates collection of Sandy-related tweets within NYC taxi_zones shapefile\n",
    "# (30290 tweets with upper and lower-cap hashtags)\n",
    "# takes ~1 mins (3.1 GHz Intel Core i7, 16 GB 1867 MHz DDR3)\n",
    "tokens = ['hurrican', 'hurricane', 'sandi', 'sandy', 'storm']\n",
    "hashtags = ['Sandy', 'sandy', 'HurricaneSandy', 'hurricanesandy',\n",
    "            'Hurricanesandy', 'hurricaneSandy',\n",
    "            'njsandy', 'NJSandy', 'NJsandy', 'njSandy',\n",
    "            'MASandy', 'StormDE', 'SandyDC', 'rigov']\n",
    "import_num = ts.create_tweets_keyword(tokens, hashtags, \n",
    "                                      collection='tweets_sandy', \n",
    "                                      analysis_collection='tweets_analysis', \n",
    "                                      db_name='sandy', \n",
    "                                      db_instance='mongodb://localhost:27017/', \n",
    "                                      overwrite=True, verbose=1)\n"
   ]
  },
  {
   "cell_type": "code",
   "execution_count": 5,
   "metadata": {
    "collapsed": true,
    "hidden": true
   },
   "outputs": [
    {
     "name": "stdout",
     "output_type": "stream",
     "text": [
      "2018-07-23 19:30:13 : Started querying and inserting token and/or hashtag-matched tweets from tweets_analysis into tweets_traffic collection in sandy database.\n",
      "\n",
      "2018-07-23 19:30:13 : Dropped tweets_traffic collection (if exists).\n",
      "\n",
      "2018-07-23 19:30:16 : Finished querying and inserting token and/or hashtag-matched tweets from tweets_analysis into tweets_traffic collection in sandy database. (1364 of 1364 queried tweets inserted).\n",
      "\n"
     ]
    }
   ],
   "source": [
    "# creates collection of traffic-related tweets within NYC taxi_zones shapefile\n",
    "# (1364 tweets with ['cab', 'congest', 'nyctlc', 'taxi', 'traffic', \n",
    "# 'yellow'], ['taxi', 'Taxi', 'traffic', 'Traffic'])\n",
    "# takes ~1 mins (3.1 GHz Intel Core i7, 16 GB 1867 MHz DDR3)\n",
    "tokens = ['cab', 'congest', 'nyctlc', 'taxi', 'traffic', 'yellow']\n",
    "hashtags = ['taxi', 'Taxi', 'traffic', 'Traffic']\n",
    "import_num = ts.create_tweets_keyword(tokens, hashtags, \n",
    "                                      collection='tweets_traffic', \n",
    "                                      analysis_collection='tweets_analysis', \n",
    "                                      db_name='sandy', \n",
    "                                      db_instance='mongodb://localhost:27017/', \n",
    "                                      overwrite=True, verbose=1)\n"
   ]
  },
  {
   "cell_type": "code",
   "execution_count": 6,
   "metadata": {
    "collapsed": true,
    "hidden": true
   },
   "outputs": [
    {
     "name": "stdout",
     "output_type": "stream",
     "text": [
      "2018-07-23 19:35:41 : Started querying and inserting token and/or hashtag-matched tweets from tweets_analysis into tweets_metro collection in sandy database.\n",
      "\n",
      "2018-07-23 19:35:41 : Dropped tweets_metro collection (if exists).\n",
      "\n",
      "2018-07-23 19:35:46 : Finished querying and inserting token and/or hashtag-matched tweets from tweets_analysis into tweets_metro collection in sandy database. (5820 of 5820 queried tweets inserted).\n",
      "\n"
     ]
    }
   ],
   "source": [
    "# creates collection of metro-related tweets within NYC taxi_zones shapefile\n",
    "# (5820 tweets with ['bu', 'bus', 'metro', 'mta', 'mtasubway', 'nycmta', \n",
    "# 'nycsubway', 'sub', 'subway', 'train'], ['mta', 'MTA', 'Mta', 'mtasubway', \n",
    "# 'nycmta', 'nycsubway', 'subway', 'train'])\n",
    "tokens = ['bu', 'bus', 'metro', 'mta', 'mtasubway', 'nycmta', 'nycsubway', \n",
    "          'sub', 'subway', 'train']\n",
    "hashtags = ['mta', 'MTA', 'Mta', 'mtasubway', 'nycmta', 'nycsubway', \n",
    "            'subway', 'train']\n",
    "import_num = ts.create_tweets_keyword(tokens, hashtags, \n",
    "                                      collection='tweets_metro', \n",
    "                                      analysis_collection='tweets_analysis', \n",
    "                                      db_name='sandy', \n",
    "                                      db_instance='mongodb://localhost:27017/', \n",
    "                                      overwrite=True, verbose=1)\n"
   ]
  },
  {
   "cell_type": "code",
   "execution_count": 7,
   "metadata": {
    "collapsed": true,
    "hidden": true
   },
   "outputs": [
    {
     "name": "stdout",
     "output_type": "stream",
     "text": [
      "2018-07-23 19:36:00 : Started querying and inserting token and/or hashtag-matched tweets from tweets_analysis into tweets_power collection in sandy database.\n",
      "\n",
      "2018-07-23 19:36:00 : Dropped tweets_power collection (if exists).\n",
      "\n",
      "2018-07-23 19:36:08 : Finished querying and inserting token and/or hashtag-matched tweets from tweets_analysis into tweets_power collection in sandy database. (12129 of 12129 queried tweets inserted).\n",
      "\n"
     ]
    }
   ],
   "source": [
    "# creates collection of power-related tweets within NYC taxi_zones shapefile\n",
    "# (12129 tweets with ['blackout', 'electr', 'grid', 'lights', 'nyiso', 'outag', \n",
    "# 'power', 'servic'], ['blackout', 'Blackout', 'electricity', 'Electricity', \n",
    "# 'outage', 'Outage', 'power', 'Power', 'poweroutage', 'PowerOutage'])\n",
    "tokens = ['blackout', 'electr', 'grid', 'light', 'nyiso', 'outag', 'power', \n",
    "          'servic']\n",
    "hashtags = ['blackout', 'Blackout', 'electricity', 'Electricity', 'outage', \n",
    "            'Outage', 'power', 'Power', 'poweroutage', 'PowerOutage']\n",
    "import_num = ts.create_tweets_keyword(tokens, hashtags, \n",
    "                                      collection='tweets_power', \n",
    "                                      analysis_collection='tweets_analysis', \n",
    "                                      db_name='sandy', \n",
    "                                      db_instance='mongodb://localhost:27017/', \n",
    "                                      overwrite=True, verbose=1)\n"
   ]
  },
  {
   "cell_type": "markdown",
   "metadata": {},
   "source": [
    "## Analyze Borough-day tweet summaries.\n",
    "\n",
    "TODO - use query_correlation_groupby function to get borough-date grouped tweets (i.e. replace the get data section here)."
   ]
  },
  {
   "cell_type": "code",
   "execution_count": 13,
   "metadata": {
    "collapsed": true
   },
   "outputs": [
    {
     "name": "stdout",
     "output_type": "stream",
     "text": [
      "2018-06-24 17:53:12 : Processed dataframe for heat map visualization. Original dataframe shape is (17, 3). Pivoted dataframe shape is (6, 7). Processed dataframe shape is (42, 3).\n",
      "\n",
      "2018-06-24 17:53:12 : Processed dataframe for heat map visualization. Original dataframe shape is (19, 3). Pivoted dataframe shape is (6, 7). Processed dataframe shape is (42, 3).\n",
      "\n",
      "2018-06-24 17:53:12 : Processed dataframe for heat map visualization. Original dataframe shape is (26, 3). Pivoted dataframe shape is (6, 7). Processed dataframe shape is (42, 3).\n",
      "\n",
      "2018-06-24 17:53:12 : Processed dataframe for heat map visualization. Original dataframe shape is (32, 3). Pivoted dataframe shape is (6, 7). Processed dataframe shape is (42, 3).\n",
      "\n",
      "2018-06-24 17:53:13 : Processed dataframe for heat map visualization. Original dataframe shape is (24, 3). Pivoted dataframe shape is (6, 7). Processed dataframe shape is (42, 3).\n",
      "\n",
      "2018-06-24 17:53:13 : Processed dataframe for heat map visualization. Original dataframe shape is (31, 3). Pivoted dataframe shape is (6, 7). Processed dataframe shape is (42, 3).\n",
      "\n"
     ]
    },
    {
     "data": {
      "image/png": "[encoded data removed]",
      "text/plain": [
       "<Figure size 576x288 with 2 Axes>"
      ]
     },
     "metadata": {},
     "output_type": "display_data"
    },
    {
     "data": {
      "image/png": "[encoded data removed]",
      "text/plain": [
       "<Figure size 576x288 with 2 Axes>"
      ]
     },
     "metadata": {},
     "output_type": "display_data"
    },
    {
     "data": {
      "image/png": "[encoded data removed]",
      "text/plain": [
       "<Figure size 576x288 with 2 Axes>"
      ]
     },
     "metadata": {},
     "output_type": "display_data"
    },
    {
     "data": {
      "image/png": "[encoded data removed]",
      "text/plain": [
       "<Figure size 576x288 with 2 Axes>"
      ]
     },
     "metadata": {},
     "output_type": "display_data"
    },
    {
     "data": {
      "image/png": "[encoded data removed]",
      "text/plain": [
       "<Figure size 576x288 with 2 Axes>"
      ]
     },
     "metadata": {},
     "output_type": "display_data"
    },
    {
     "data": {
      "image/png": "[encoded data removed]",
      "text/plain": [
       "<Figure size 576x288 with 2 Axes>"
      ]
     },
     "metadata": {},
     "output_type": "display_data"
    }
   ],
   "source": [
    "tweet_count_filter = 5\n",
    "boroughs = ['Bronx', 'Brooklyn', 'EWR', 'Manhattan', 'Queens', 'Staten Island']\n",
    "\n",
    "# get data for week 1 ##############################\n",
    "# startdate = pd.Timestamp('2012-10-21 00:00:00', \n",
    "#                          tz='America/New_York')  # inclusive\n",
    "# enddate = pd.Timestamp('2012-10-29 00:00:00', \n",
    "#                        tz='America/New_York')  # exclusive\n",
    "# df_sandy = ts.query_correlation_groupby('tweets_sandy', 'borough', 'date',\n",
    "#                                         tweet_count_filter, \n",
    "#                                         startdate=startdate, enddate=enddate,\n",
    "#                                         verbose=2)\n",
    "# df_sandy = df_sandy.rename(columns={'tweets': 'sandy-tweets'})\n",
    "# startdate = dt.datetime(2012, 10, 21, 0, 0, 0)\n",
    "# enddate = dt.datetime(2012, 10, 28, 0, 0, 0)\n",
    "# query = {\n",
    "#     \"count\": {\"$gte\": tweet_count_filter},\n",
    "#     \"datetimeUTC\": {\"$lt\": enddate, \"$gte\": startdate}\n",
    "# }\n",
    "# df_sandy = ts.mongod_to_df(query, collection='borough_day_sandy') \n",
    "# df_traffic = ts.mongod_to_df(query, collection='borough_day_traffic')\n",
    "# df_power = ts.mongod_to_df(query, collection='borough_day_power')\n",
    "\n",
    "# process data\n",
    "daterange = ['10/21/2012', '10/27/2012']\n",
    "df1, _ = ts.process_heat_map_daily(df_sandy, daterange=daterange, \n",
    "                                   boroughs=boroughs, verbose=1)\n",
    "df2, _ = ts.process_heat_map_daily(df_traffic, daterange=daterange, \n",
    "                                   boroughs=boroughs, verbose=1)\n",
    "df3, _ = ts.process_heat_map_daily(df_power, daterange=daterange, \n",
    "                                   boroughs=boroughs, verbose=1)\n",
    "\n",
    "# heat map for Sandy-related tweets\n",
    "plt.rc('text', usetex=True)\n",
    "plt.rc('font', family='serif')\n",
    "fig, ax = plt.subplots(figsize=(8, 4), tight_layout=False)\n",
    "ax = sns.heatmap(df1, vmin=0, cmap=\"YlGnBu\", ax=ax, \n",
    "                 linewidths=0.25, yticklabels=True, \n",
    "                 cbar_kws={'label': '\\# of Sandy-related Tweets'})\n",
    "ax.tick_params(axis='both', colors='k')\n",
    "ax.tick_params(axis='x', labelsize=16)\n",
    "ax.tick_params(axis='y', labelrotation=0, labelsize=10)\n",
    "ax.set_xlabel('Day', color='k', size=16)\n",
    "ax.set_ylabel('Borough', color='k', size=16)\n",
    "cbar_axes = ax.figure.axes[-1]\n",
    "cbar_axes.yaxis.label.set_size(10)\n",
    "cbar_axes.yaxis.label.set_color('k')\n",
    "cbar_axes.tick_params(axis='y', colors='k')\n",
    "# plt.savefig('notebooks/images/week1-sandytweets.pdf', dpi=300, \n",
    "#             bbox_inches='tight')\n",
    "# plt.savefig('notebooks/images/week1-sandytweets.png', dpi=150, \n",
    "#             bbox_inches='tight')\n",
    "\n",
    "# heat map for traffic-related tweets\n",
    "fig, ax = plt.subplots(figsize=(8, 4), tight_layout=False)\n",
    "ax = sns.heatmap(df2, vmin=0, cmap=\"YlGnBu\", ax=ax, \n",
    "                 linewidths=0.25, cbar_kws={'label': \n",
    "                                            '\\# of Traffic-related Tweets'})\n",
    "ax.tick_params(axis='both', colors='k')\n",
    "ax.tick_params(axis='x', labelsize=16)\n",
    "ax.tick_params(axis='y', labelrotation=0, labelsize=10)\n",
    "ax.set_xlabel('Day', color='k', size=16)\n",
    "ax.set_ylabel('Borough', color='k', size=16)\n",
    "cbar_axes = ax.figure.axes[-1]\n",
    "cbar_axes.yaxis.label.set_size(10)\n",
    "cbar_axes.yaxis.label.set_color('k')\n",
    "cbar_axes.tick_params(axis='y', colors='k')\n",
    "# plt.savefig('notebooks/images/week1-traffictweets.pdf', dpi=300, \n",
    "#             bbox_inches='tight')\n",
    "# plt.savefig('notebooks/images/week1-traffictweets.png', dpi=150, \n",
    "#             bbox_inches='tight')\n",
    "\n",
    "# heat map for power-related tweets\n",
    "fig, ax = plt.subplots(figsize=(8, 4), tight_layout=False)\n",
    "ax = sns.heatmap(df3, vmin=0, cmap=\"YlGnBu\", ax=ax, \n",
    "                 linewidths=0.25, cbar_kws={'label': \n",
    "                                            '\\# of Power-related Tweets'})\n",
    "ax.tick_params(axis='both', colors='k')\n",
    "ax.tick_params(axis='x', labelsize=16)\n",
    "ax.tick_params(axis='y', labelrotation=0, labelsize=10)\n",
    "ax.set_xlabel('Day', color='k', size=16)\n",
    "ax.set_ylabel('Borough', color='k', size=16)\n",
    "cbar_axes = ax.figure.axes[-1]\n",
    "cbar_axes.yaxis.label.set_size(10)\n",
    "cbar_axes.yaxis.label.set_color('k')\n",
    "cbar_axes.tick_params(axis='y', colors='k')\n",
    "# plt.savefig('notebooks/images/week1-powertweets.pdf', dpi=300, \n",
    "#             bbox_inches='tight')\n",
    "# plt.savefig('notebooks/images/week1-powertweets.png', dpi=150, \n",
    "#             bbox_inches='tight')\n",
    "\n",
    "# get data for week 2 ##############################\n",
    "startdate = dt.datetime(2012, 10, 28, 0, 0, 0)\n",
    "enddate = dt.datetime(2012, 11, 4, 0, 0, 0)\n",
    "query = {\n",
    "    \"count\": {\"$gte\": tweet_count_filter},\n",
    "    \"datetimeUTC\": {\"$lt\": enddate, \"$gte\": startdate}\n",
    "}\n",
    "df_sandy = ts.mongod_to_df(query, collection='borough_day_sandy') \n",
    "df_traffic = ts.mongod_to_df(query, collection='borough_day_traffic')\n",
    "df_power = ts.mongod_to_df(query, collection='borough_day_power')\n",
    "\n",
    "# process data\n",
    "daterange = ['10/28/2012', '11/03/2012']\n",
    "df1, _ = ts.process_heat_map_daily(df_sandy, daterange=daterange, \n",
    "                                   boroughs=boroughs, verbose=1)\n",
    "df2, _ = ts.process_heat_map_daily(df_traffic, daterange=daterange, \n",
    "                                   boroughs=boroughs, verbose=1)\n",
    "df3, _ = ts.process_heat_map_daily(df_power, daterange=daterange, \n",
    "                                   boroughs=boroughs, verbose=1)\n",
    "\n",
    "# heat map for Sandy-related tweets\n",
    "plt.rc('text', usetex=True)\n",
    "plt.rc('font', family='serif')\n",
    "fig, ax = plt.subplots(figsize=(8, 4), tight_layout=False)\n",
    "ax = sns.heatmap(df1, vmin=0, cmap=\"YlGnBu\", ax=ax, \n",
    "                 linewidths=0.25, yticklabels=True, \n",
    "                 cbar_kws={'label': '\\# of Sandy-related Tweets'})\n",
    "ax.tick_params(axis='both', colors='k')\n",
    "ax.tick_params(axis='x', labelsize=16)\n",
    "ax.tick_params(axis='y', labelrotation=0, labelsize=10)\n",
    "ax.set_xlabel('Day', color='k', size=16)\n",
    "ax.set_ylabel('Borough', color='k', size=16)\n",
    "cbar_axes = ax.figure.axes[-1]\n",
    "cbar_axes.yaxis.label.set_size(10)\n",
    "cbar_axes.yaxis.label.set_color('k')\n",
    "cbar_axes.tick_params(axis='y', colors='k')\n",
    "# plt.savefig('notebooks/images/week2-sandytweets.pdf', dpi=300, \n",
    "#             bbox_inches='tight')\n",
    "# plt.savefig('notebooks/images/week2-sandytweets.png', dpi=150, \n",
    "#             bbox_inches='tight')\n",
    "\n",
    "# heat map for traffic-related tweets\n",
    "fig, ax = plt.subplots(figsize=(8, 4), tight_layout=False)\n",
    "ax = sns.heatmap(df2, vmin=0, cmap=\"YlGnBu\", ax=ax, \n",
    "                 linewidths=0.25, cbar_kws={'label': \n",
    "                                            '\\# of Traffic-related Tweets'})\n",
    "ax.tick_params(axis='both', colors='k')\n",
    "ax.tick_params(axis='x', labelsize=16)\n",
    "ax.tick_params(axis='y', labelrotation=0, labelsize=10)\n",
    "ax.set_xlabel('Day', color='k', size=16)\n",
    "ax.set_ylabel('Borough', color='k', size=16)\n",
    "cbar_axes = ax.figure.axes[-1]\n",
    "cbar_axes.yaxis.label.set_size(10)\n",
    "cbar_axes.yaxis.label.set_color('k')\n",
    "cbar_axes.tick_params(axis='y', colors='k')\n",
    "# plt.savefig('notebooks/images/week2-traffictweets.pdf', dpi=300, \n",
    "#             bbox_inches='tight')\n",
    "# plt.savefig('notebooks/images/week2-traffictweets.png', dpi=150, \n",
    "#             bbox_inches='tight')\n",
    "\n",
    "# heat map for power-related tweets\n",
    "fig, ax = plt.subplots(figsize=(8, 4), tight_layout=False)\n",
    "ax = sns.heatmap(df3, vmin=0, cmap=\"YlGnBu\", ax=ax, \n",
    "                 linewidths=0.25, cbar_kws={'label': \n",
    "                                            '\\# of Power-related Tweets'})\n",
    "ax.tick_params(axis='both', colors='k')\n",
    "ax.tick_params(axis='x', labelsize=16)\n",
    "ax.tick_params(axis='y', labelrotation=0, labelsize=10)\n",
    "ax.set_xlabel('Day', color='k', size=16)\n",
    "ax.set_ylabel('Borough', color='k', size=16)\n",
    "cbar_axes = ax.figure.axes[-1]\n",
    "cbar_axes.yaxis.label.set_size(10)\n",
    "cbar_axes.yaxis.label.set_color('k')\n",
    "cbar_axes.tick_params(axis='y', colors='k')\n",
    "# plt.savefig('notebooks/images/week2-powertweets.pdf', dpi=300, \n",
    "#             bbox_inches='tight')\n",
    "# plt.savefig('notebooks/images/week2-powertweets.png', dpi=150, \n",
    "#             bbox_inches='tight')"
   ]
  },
  {
   "cell_type": "code",
   "execution_count": null,
   "metadata": {},
   "outputs": [],
   "source": []
  }
 ],
 "metadata": {
  "kernelspec": {
   "display_name": "Python 3",
   "language": "python",
   "name": "python3"
  },
  "language_info": {
   "codemirror_mode": {
    "name": "ipython",
    "version": 3
   },
   "file_extension": ".py",
   "mimetype": "text/x-python",
   "name": "python",
   "nbconvert_exporter": "python",
   "pygments_lexer": "ipython3",
   "version": "3.7.2"
  },
  "toc": {
   "base_numbering": 1,
   "nav_menu": {},
   "number_sections": true,
   "sideBar": true,
   "skip_h1_title": false,
   "title_cell": "Table of Contents",
   "title_sidebar": "Contents",
   "toc_cell": false,
   "toc_position": {},
   "toc_section_display": true,
   "toc_window_display": false
  },
  "varInspector": {
   "cols": {
    "lenName": 16,
    "lenType": 16,
    "lenVar": 40
   },
   "kernels_config": {
    "python": {
     "delete_cmd_postfix": "",
     "delete_cmd_prefix": "del ",
     "library": "var_list.py",
     "varRefreshCmd": "print(var_dic_list())"
    },
    "r": {
     "delete_cmd_postfix": ") ",
     "delete_cmd_prefix": "rm(",
     "library": "var_list.r",
     "varRefreshCmd": "cat(var_dic_list()) "
    }
   },
   "types_to_exclude": [
    "module",
    "function",
    "builtin_function_or_method",
    "instance",
    "_Feature"
   ],
   "window_display": false
  }
 },
 "nbformat": 4,
 "nbformat_minor": 1
}
